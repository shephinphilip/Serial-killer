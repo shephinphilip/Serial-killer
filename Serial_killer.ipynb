{
  "nbformat": 4,
  "nbformat_minor": 0,
  "metadata": {
    "colab": {
      "provenance": [],
      "authorship_tag": "ABX9TyPXca8Oh/QBdnQDHhTA2AeY",
      "include_colab_link": true
    },
    "kernelspec": {
      "name": "python3",
      "display_name": "Python 3"
    },
    "language_info": {
      "name": "python"
    }
  },
  "cells": [
    {
      "cell_type": "markdown",
      "metadata": {
        "id": "view-in-github",
        "colab_type": "text"
      },
      "source": [
        "<a href=\"https://colab.research.google.com/github/shephinphilip/Serial-killer/blob/main/Serial_killer.ipynb\" target=\"_parent\"><img src=\"https://colab.research.google.com/assets/colab-badge.svg\" alt=\"Open In Colab\"/></a>"
      ]
    },
    {
      "cell_type": "code",
      "execution_count": 38,
      "metadata": {
        "id": "MepRoHbrn5Al"
      },
      "outputs": [],
      "source": [
        "import pandas as pd"
      ]
    },
    {
      "cell_type": "code",
      "source": [
        "data = pd.read_csv('serial_killers.csv')  # Replace 'your_dataset.csv' with the actual filename and path of your dataset\n"
      ],
      "metadata": {
        "id": "NdPnymWprnm_"
      },
      "execution_count": 39,
      "outputs": []
    },
    {
      "cell_type": "code",
      "source": [
        "#@title TOP COUNTRY"
      ],
      "metadata": {
        "id": "09Kll6x7_7PV"
      },
      "execution_count": null,
      "outputs": []
    },
    {
      "cell_type": "code",
      "source": [
        "country_counts = data['Country'].value_counts()\n"
      ],
      "metadata": {
        "id": "h-rKaqD67tKG"
      },
      "execution_count": 44,
      "outputs": []
    },
    {
      "cell_type": "code",
      "source": [
        "highest_country = country_counts.idxmax()"
      ],
      "metadata": {
        "id": "YjS28KyoroEp"
      },
      "execution_count": 45,
      "outputs": []
    },
    {
      "cell_type": "code",
      "source": [
        "print(\"The country with the highest number of serial killers is:\", highest_country)"
      ],
      "metadata": {
        "colab": {
          "base_uri": "https://localhost:8080/"
        },
        "id": "hOb0eCx1r-am",
        "outputId": "738a3277-106d-46e9-b93b-63d381299dfb"
      },
      "execution_count": 46,
      "outputs": [
        {
          "output_type": "stream",
          "name": "stdout",
          "text": [
            "The country with the highest number of serial killers is: United States\n"
          ]
        }
      ]
    },
    {
      "cell_type": "code",
      "source": [
        "sorted_country_counts = country_counts.sort_values(ascending=False)\n"
      ],
      "metadata": {
        "id": "kCHMDeCUr-eg"
      },
      "execution_count": 47,
      "outputs": []
    },
    {
      "cell_type": "code",
      "source": [
        "print(\"Countries with the highest number of serial killers:\")\n",
        "print(sorted_country_counts)\n",
        "\n"
      ],
      "metadata": {
        "colab": {
          "base_uri": "https://localhost:8080/"
        },
        "id": "XVgWZbGFsDiw",
        "outputId": "f7d2728d-6789-4db0-9188-fab1a541baa4"
      },
      "execution_count": 48,
      "outputs": [
        {
          "output_type": "stream",
          "name": "stdout",
          "text": [
            "Countries with the highest number of serial killers:\n",
            "United States                      1064\n",
            "United Kingdom                       62\n",
            "Russia                               33\n",
            "France                               26\n",
            "South Africa                         21\n",
            "                                   ... \n",
            "France Bolivia  Chile                 1\n",
            "Victoria South Australia              1\n",
            "United States Ireland (alleged)       1\n",
            "Ruanda-Urundi                         1\n",
            "Mali                                  1\n",
            "Name: Country, Length: 141, dtype: int64\n"
          ]
        }
      ]
    },
    {
      "cell_type": "code",
      "source": [
        "#@title Top 5 Serial killers\n"
      ],
      "metadata": {
        "id": "Kco1p-Ciuqr7"
      },
      "execution_count": null,
      "outputs": []
    },
    {
      "cell_type": "code",
      "source": [
        "proven_victims = data['Proven victims'].value_counts()"
      ],
      "metadata": {
        "id": "gL4Sz1WSsdfR"
      },
      "execution_count": 49,
      "outputs": []
    },
    {
      "cell_type": "code",
      "source": [
        "Top_Killers = proven_victims.idxmax()"
      ],
      "metadata": {
        "id": "2mPukcIQsI44"
      },
      "execution_count": 50,
      "outputs": []
    },
    {
      "cell_type": "code",
      "source": [
        "sorted_data = data.sort_values(by='Proven victims', ascending=False)"
      ],
      "metadata": {
        "id": "sWCJpFK0s4fF"
      },
      "execution_count": 51,
      "outputs": []
    },
    {
      "cell_type": "code",
      "source": [
        "top_5_serial_killers = sorted_data.head(5)\n"
      ],
      "metadata": {
        "id": "8p5Bu6EitCC2"
      },
      "execution_count": 52,
      "outputs": []
    },
    {
      "cell_type": "code",
      "source": [
        "print(\"Top 5 serial killers with the highest number of proven victims:\")\n",
        "print(top_5_serial_killers[['Name', 'Proven victims']])\n"
      ],
      "metadata": {
        "colab": {
          "base_uri": "https://localhost:8080/"
        },
        "id": "AE4t5eoqt6b2",
        "outputId": "9ad76871-3ebc-4fdf-fa43-48520d8b1baf"
      },
      "execution_count": 53,
      "outputs": [
        {
          "output_type": "stream",
          "name": "stdout",
          "text": [
            "Top 5 serial killers with the highest number of proven victims:\n",
            "                                         Name Proven victims\n",
            "562  Catherine Flannagan and Margaret Higgins    Unconfirmed\n",
            "544                             Lydia Sherman    Unconfirmed\n",
            "539                       Juhani Aataminpoika    Unconfirmed\n",
            "538                            William Palmer    Unconfirmed\n",
            "537                                   Swiatek    Unconfirmed\n"
          ]
        }
      ]
    },
    {
      "cell_type": "code",
      "source": [
        "#@title TRENDS OF THE SERIAL KILLER\n"
      ],
      "metadata": {
        "id": "rJYlF4kPARF1"
      },
      "execution_count": null,
      "outputs": []
    },
    {
      "cell_type": "code",
      "source": [
        "import matplotlib.pyplot as plt"
      ],
      "metadata": {
        "id": "VHisGZFDuzbC"
      },
      "execution_count": 54,
      "outputs": []
    },
    {
      "cell_type": "code",
      "source": [
        "data['Start Year'] = data['Years active'].str.split('-', expand=True)[0].str.strip()\n",
        "data['End Year'] = data['Years active'].str.split('-', expand=True)[1].str.strip()\n"
      ],
      "metadata": {
        "id": "-1e6YgjVvzgI"
      },
      "execution_count": 55,
      "outputs": []
    },
    {
      "cell_type": "code",
      "source": [
        "data['Start Year'] = pd.to_numeric(data['Start Year'], errors='coerce')\n",
        "data['End Year'] = pd.to_numeric(data['End Year'], errors='coerce')\n"
      ],
      "metadata": {
        "id": "DhW_HCqlv7BI"
      },
      "execution_count": 56,
      "outputs": []
    },
    {
      "cell_type": "code",
      "source": [
        "data['Duration'] = data['End Year'] - data['Start Year']\n"
      ],
      "metadata": {
        "id": "UnxCuug6v95B"
      },
      "execution_count": 57,
      "outputs": []
    },
    {
      "cell_type": "code",
      "source": [
        "duration_counts = data['Duration'].value_counts()\n"
      ],
      "metadata": {
        "id": "_WPuRfvF7A9F"
      },
      "execution_count": 58,
      "outputs": []
    },
    {
      "cell_type": "code",
      "source": [
        "sorted_duration_counts = duration_counts.sort_index()\n"
      ],
      "metadata": {
        "id": "iUoEfQ8_8c7B"
      },
      "execution_count": 59,
      "outputs": []
    },
    {
      "cell_type": "code",
      "source": [
        "plt.plot(sorted_duration_counts.index, sorted_duration_counts.values)\n",
        "plt.xlabel('Duration (Years)')\n",
        "plt.ylabel('Count')\n",
        "plt.title('Trends in Serial Killers\\' Activity Duration')\n",
        "plt.show()\n"
      ],
      "metadata": {
        "colab": {
          "base_uri": "https://localhost:8080/",
          "height": 472
        },
        "id": "pIUWMwme8f2I",
        "outputId": "de2a668c-c398-41cc-cbfe-cc7317ae869a"
      },
      "execution_count": 60,
      "outputs": [
        {
          "output_type": "display_data",
          "data": {
            "text/plain": [
              "<Figure size 640x480 with 1 Axes>"
            ],
            "image/png": "[encoded data removed]"
          },
          "metadata": {}
        }
      ]
    },
    {
      "cell_type": "code",
      "source": [
        "#@title NUMBER OF SERIAL KILLERS IN INDIA\n"
      ],
      "metadata": {
        "id": "5NHX8VHvAXCU"
      },
      "execution_count": null,
      "outputs": []
    },
    {
      "cell_type": "code",
      "source": [
        "india_data = data[data['Country'] == 'India']\n"
      ],
      "metadata": {
        "id": "6VHsh0Vb8kdc"
      },
      "execution_count": 61,
      "outputs": []
    },
    {
      "cell_type": "code",
      "source": [
        "num_serial_killers_india = india_data.shape[0]\n"
      ],
      "metadata": {
        "id": "8hEyvMqS8smU"
      },
      "execution_count": 62,
      "outputs": []
    },
    {
      "cell_type": "code",
      "source": [
        "print(\"Number of serial killers from India:\", num_serial_killers_india)\n"
      ],
      "metadata": {
        "colab": {
          "base_uri": "https://localhost:8080/"
        },
        "id": "i9v07sOe8xP9",
        "outputId": "66db84f5-3fc5-4dc2-95f8-a09bec90a904"
      },
      "execution_count": 63,
      "outputs": [
        {
          "output_type": "stream",
          "name": "stdout",
          "text": [
            "Number of serial killers from India: 12\n"
          ]
        }
      ]
    },
    {
      "cell_type": "code",
      "source": [
        "\n",
        "# Group the data by country and count the number of occurrences\n",
        "#country_counts = data['Country'].value_counts().reset_index()\n",
        "\n",
        "# Rename the columns\n",
        "country_counts.columns = ['Countries', 'Number of Serial Killers']\n",
        "\n",
        "# Display the table\n",
        "print(country_counts)\n"
      ],
      "metadata": {
        "colab": {
          "base_uri": "https://localhost:8080/"
        },
        "id": "vrsnlcpx8zJT",
        "outputId": "d142eab9-6866-43cd-96ec-107796060865"
      },
      "execution_count": 66,
      "outputs": [
        {
          "output_type": "stream",
          "name": "stdout",
          "text": [
            "                                             Countries  \\\n",
            "0                                        United States   \n",
            "1                                       United Kingdom   \n",
            "2                                               Russia   \n",
            "3                                               France   \n",
            "4                                         South Africa   \n",
            "..                                                 ...   \n",
            "136                                            Belarus   \n",
            "137  East Germany  Germany  France  Spain  Czech Re...   \n",
            "138                                             Cyprus   \n",
            "139                              Canada  United States   \n",
            "140                                               Mali   \n",
            "\n",
            "     Number of Serial Killers  \n",
            "0                        1064  \n",
            "1                          62  \n",
            "2                          33  \n",
            "3                          26  \n",
            "4                          21  \n",
            "..                        ...  \n",
            "136                         1  \n",
            "137                         1  \n",
            "138                         1  \n",
            "139                         1  \n",
            "140                         1  \n",
            "\n",
            "[141 rows x 2 columns]\n"
          ]
        }
      ]
    },
    {
      "cell_type": "code",
      "source": [
        "#@title MODUS OPERANDI OF THE SERIAL KILLERS\n"
      ],
      "metadata": {
        "id": "imCmBHxAAk0c"
      },
      "execution_count": null,
      "outputs": []
    },
    {
      "cell_type": "code",
      "source": [
        "modus_operandi = data['Notes'].str.split(',', expand=True).stack().str.strip().value_counts()\n"
      ],
      "metadata": {
        "id": "JeFvZOGt_JpU"
      },
      "execution_count": 67,
      "outputs": []
    },
    {
      "cell_type": "code",
      "source": [
        "print(\"Most common modus operandi used by serial killers:\")\n",
        "print(modus_operandi.head(10))  # Adjust the number (e.g., 10) to display more or fewer results\n"
      ],
      "metadata": {
        "colab": {
          "base_uri": "https://localhost:8080/"
        },
        "id": "X8AE3DJG_lfl",
        "outputId": "41327c25-c7bc-4480-9417-652f360d2ada"
      },
      "execution_count": 68,
      "outputs": [
        {
          "output_type": "stream",
          "name": "stdout",
          "text": [
            "Most common modus operandi used by serial killers:\n",
            "Committed suicide                 25\n",
            "Florida                           17\n",
            "California                        16\n",
            "Sentenced to life imprisonment    14\n",
            "Kidnapped                         12\n",
            "raped                             10\n",
            "Raped                             10\n",
            "Michigan                           7\n",
            "Arrested                           7\n",
            "Killed by police                   7\n",
            "dtype: int64\n"
          ]
        }
      ]
    }
  ]
}